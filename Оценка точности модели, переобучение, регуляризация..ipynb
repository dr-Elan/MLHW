{
 "cells": [
  {
   "cell_type": "code",
   "execution_count": 1,
   "id": "a2a87cb3",
   "metadata": {},
   "outputs": [],
   "source": [
    "import pandas as pd\n",
    "import numpy as np\n",
    "import seaborn as sns\n",
    "from matplotlib import pyplot as plt\n",
    "from sklearn.linear_model import LogisticRegression\n",
    "from sklearn.model_selection import train_test_split"
   ]
  },
  {
   "cell_type": "markdown",
   "id": "c3a7184c",
   "metadata": {},
   "source": [
    "### 1. Преобразуйте данные "
   ]
  },
  {
   "cell_type": "code",
   "execution_count": 2,
   "id": "73d942ed",
   "metadata": {},
   "outputs": [
    {
     "data": {
      "text/html": [
       "<div>\n",
       "<style scoped>\n",
       "    .dataframe tbody tr th:only-of-type {\n",
       "        vertical-align: middle;\n",
       "    }\n",
       "\n",
       "    .dataframe tbody tr th {\n",
       "        vertical-align: top;\n",
       "    }\n",
       "\n",
       "    .dataframe thead th {\n",
       "        text-align: right;\n",
       "    }\n",
       "</style>\n",
       "<table border=\"1\" class=\"dataframe\">\n",
       "  <thead>\n",
       "    <tr style=\"text-align: right;\">\n",
       "      <th></th>\n",
       "      <th>id</th>\n",
       "      <th>name</th>\n",
       "      <th>nationality</th>\n",
       "      <th>sex</th>\n",
       "      <th>dob</th>\n",
       "      <th>height</th>\n",
       "      <th>weight</th>\n",
       "      <th>sport</th>\n",
       "      <th>gold</th>\n",
       "      <th>silver</th>\n",
       "      <th>bronze</th>\n",
       "    </tr>\n",
       "  </thead>\n",
       "  <tbody>\n",
       "    <tr>\n",
       "      <th>0</th>\n",
       "      <td>736041664</td>\n",
       "      <td>A Jesus Garcia</td>\n",
       "      <td>ESP</td>\n",
       "      <td>male</td>\n",
       "      <td>10/17/69</td>\n",
       "      <td>1.72</td>\n",
       "      <td>64.0</td>\n",
       "      <td>athletics</td>\n",
       "      <td>0</td>\n",
       "      <td>0</td>\n",
       "      <td>0</td>\n",
       "    </tr>\n",
       "    <tr>\n",
       "      <th>1</th>\n",
       "      <td>532037425</td>\n",
       "      <td>A Lam Shin</td>\n",
       "      <td>KOR</td>\n",
       "      <td>female</td>\n",
       "      <td>9/23/86</td>\n",
       "      <td>1.68</td>\n",
       "      <td>56.0</td>\n",
       "      <td>fencing</td>\n",
       "      <td>0</td>\n",
       "      <td>0</td>\n",
       "      <td>0</td>\n",
       "    </tr>\n",
       "    <tr>\n",
       "      <th>2</th>\n",
       "      <td>435962603</td>\n",
       "      <td>Aaron Brown</td>\n",
       "      <td>CAN</td>\n",
       "      <td>male</td>\n",
       "      <td>5/27/92</td>\n",
       "      <td>1.98</td>\n",
       "      <td>79.0</td>\n",
       "      <td>athletics</td>\n",
       "      <td>0</td>\n",
       "      <td>0</td>\n",
       "      <td>1</td>\n",
       "    </tr>\n",
       "    <tr>\n",
       "      <th>3</th>\n",
       "      <td>521041435</td>\n",
       "      <td>Aaron Cook</td>\n",
       "      <td>MDA</td>\n",
       "      <td>male</td>\n",
       "      <td>1/2/91</td>\n",
       "      <td>1.83</td>\n",
       "      <td>80.0</td>\n",
       "      <td>taekwondo</td>\n",
       "      <td>0</td>\n",
       "      <td>0</td>\n",
       "      <td>0</td>\n",
       "    </tr>\n",
       "    <tr>\n",
       "      <th>4</th>\n",
       "      <td>33922579</td>\n",
       "      <td>Aaron Gate</td>\n",
       "      <td>NZL</td>\n",
       "      <td>male</td>\n",
       "      <td>11/26/90</td>\n",
       "      <td>1.81</td>\n",
       "      <td>71.0</td>\n",
       "      <td>cycling</td>\n",
       "      <td>0</td>\n",
       "      <td>0</td>\n",
       "      <td>0</td>\n",
       "    </tr>\n",
       "    <tr>\n",
       "      <th>...</th>\n",
       "      <td>...</td>\n",
       "      <td>...</td>\n",
       "      <td>...</td>\n",
       "      <td>...</td>\n",
       "      <td>...</td>\n",
       "      <td>...</td>\n",
       "      <td>...</td>\n",
       "      <td>...</td>\n",
       "      <td>...</td>\n",
       "      <td>...</td>\n",
       "      <td>...</td>\n",
       "    </tr>\n",
       "    <tr>\n",
       "      <th>11533</th>\n",
       "      <td>265605954</td>\n",
       "      <td>Zurian Hechavarria</td>\n",
       "      <td>CUB</td>\n",
       "      <td>female</td>\n",
       "      <td>8/10/95</td>\n",
       "      <td>1.64</td>\n",
       "      <td>58.0</td>\n",
       "      <td>athletics</td>\n",
       "      <td>0</td>\n",
       "      <td>0</td>\n",
       "      <td>0</td>\n",
       "    </tr>\n",
       "    <tr>\n",
       "      <th>11534</th>\n",
       "      <td>214461847</td>\n",
       "      <td>Zuzana Hejnova</td>\n",
       "      <td>CZE</td>\n",
       "      <td>female</td>\n",
       "      <td>12/19/86</td>\n",
       "      <td>1.73</td>\n",
       "      <td>63.0</td>\n",
       "      <td>athletics</td>\n",
       "      <td>0</td>\n",
       "      <td>0</td>\n",
       "      <td>0</td>\n",
       "    </tr>\n",
       "    <tr>\n",
       "      <th>11535</th>\n",
       "      <td>88361042</td>\n",
       "      <td>di Xiao</td>\n",
       "      <td>CHN</td>\n",
       "      <td>male</td>\n",
       "      <td>5/14/91</td>\n",
       "      <td>1.85</td>\n",
       "      <td>100.0</td>\n",
       "      <td>wrestling</td>\n",
       "      <td>0</td>\n",
       "      <td>0</td>\n",
       "      <td>0</td>\n",
       "    </tr>\n",
       "    <tr>\n",
       "      <th>11536</th>\n",
       "      <td>900065925</td>\n",
       "      <td>le Quoc Toan Tran</td>\n",
       "      <td>VIE</td>\n",
       "      <td>male</td>\n",
       "      <td>4/5/89</td>\n",
       "      <td>1.60</td>\n",
       "      <td>56.0</td>\n",
       "      <td>weightlifting</td>\n",
       "      <td>0</td>\n",
       "      <td>0</td>\n",
       "      <td>0</td>\n",
       "    </tr>\n",
       "    <tr>\n",
       "      <th>11537</th>\n",
       "      <td>711404576</td>\n",
       "      <td>le Roux Hamman</td>\n",
       "      <td>RSA</td>\n",
       "      <td>male</td>\n",
       "      <td>1/6/92</td>\n",
       "      <td>1.85</td>\n",
       "      <td>70.0</td>\n",
       "      <td>athletics</td>\n",
       "      <td>0</td>\n",
       "      <td>0</td>\n",
       "      <td>0</td>\n",
       "    </tr>\n",
       "  </tbody>\n",
       "</table>\n",
       "<p>11538 rows × 11 columns</p>\n",
       "</div>"
      ],
      "text/plain": [
       "              id                name nationality     sex       dob  height  \\\n",
       "0      736041664      A Jesus Garcia         ESP    male  10/17/69    1.72   \n",
       "1      532037425          A Lam Shin         KOR  female   9/23/86    1.68   \n",
       "2      435962603         Aaron Brown         CAN    male   5/27/92    1.98   \n",
       "3      521041435          Aaron Cook         MDA    male    1/2/91    1.83   \n",
       "4       33922579          Aaron Gate         NZL    male  11/26/90    1.81   \n",
       "...          ...                 ...         ...     ...       ...     ...   \n",
       "11533  265605954  Zurian Hechavarria         CUB  female   8/10/95    1.64   \n",
       "11534  214461847      Zuzana Hejnova         CZE  female  12/19/86    1.73   \n",
       "11535   88361042             di Xiao         CHN    male   5/14/91    1.85   \n",
       "11536  900065925   le Quoc Toan Tran         VIE    male    4/5/89    1.60   \n",
       "11537  711404576      le Roux Hamman         RSA    male    1/6/92    1.85   \n",
       "\n",
       "       weight          sport  gold  silver  bronze  \n",
       "0        64.0      athletics     0       0       0  \n",
       "1        56.0        fencing     0       0       0  \n",
       "2        79.0      athletics     0       0       1  \n",
       "3        80.0      taekwondo     0       0       0  \n",
       "4        71.0        cycling     0       0       0  \n",
       "...       ...            ...   ...     ...     ...  \n",
       "11533    58.0      athletics     0       0       0  \n",
       "11534    63.0      athletics     0       0       0  \n",
       "11535   100.0      wrestling     0       0       0  \n",
       "11536    56.0  weightlifting     0       0       0  \n",
       "11537    70.0      athletics     0       0       0  \n",
       "\n",
       "[11538 rows x 11 columns]"
      ]
     },
     "execution_count": 2,
     "metadata": {},
     "output_type": "execute_result"
    }
   ],
   "source": [
    "df = pd.read_csv('athletes.csv')\n",
    "df"
   ]
  },
  {
   "cell_type": "code",
   "execution_count": 3,
   "id": "3c4dfbee",
   "metadata": {},
   "outputs": [
    {
     "name": "stdout",
     "output_type": "stream",
     "text": [
      "<class 'pandas.core.frame.DataFrame'>\n",
      "RangeIndex: 11538 entries, 0 to 11537\n",
      "Data columns (total 11 columns):\n",
      " #   Column       Non-Null Count  Dtype  \n",
      "---  ------       --------------  -----  \n",
      " 0   id           11538 non-null  int64  \n",
      " 1   name         11538 non-null  object \n",
      " 2   nationality  11538 non-null  object \n",
      " 3   sex          11538 non-null  object \n",
      " 4   dob          11537 non-null  object \n",
      " 5   height       11208 non-null  float64\n",
      " 6   weight       10879 non-null  float64\n",
      " 7   sport        11538 non-null  object \n",
      " 8   gold         11538 non-null  int64  \n",
      " 9   silver       11538 non-null  int64  \n",
      " 10  bronze       11538 non-null  int64  \n",
      "dtypes: float64(2), int64(4), object(5)\n",
      "memory usage: 991.7+ KB\n"
     ]
    }
   ],
   "source": [
    "df.info()"
   ]
  },
  {
   "cell_type": "code",
   "execution_count": 4,
   "id": "ddd44af2",
   "metadata": {},
   "outputs": [
    {
     "data": {
      "text/html": [
       "<div>\n",
       "<style scoped>\n",
       "    .dataframe tbody tr th:only-of-type {\n",
       "        vertical-align: middle;\n",
       "    }\n",
       "\n",
       "    .dataframe tbody tr th {\n",
       "        vertical-align: top;\n",
       "    }\n",
       "\n",
       "    .dataframe thead th {\n",
       "        text-align: right;\n",
       "    }\n",
       "</style>\n",
       "<table border=\"1\" class=\"dataframe\">\n",
       "  <thead>\n",
       "    <tr style=\"text-align: right;\">\n",
       "      <th></th>\n",
       "      <th>id</th>\n",
       "      <th>name</th>\n",
       "      <th>nationality</th>\n",
       "      <th>sex</th>\n",
       "      <th>dob</th>\n",
       "      <th>height</th>\n",
       "      <th>weight</th>\n",
       "      <th>sport</th>\n",
       "      <th>gold</th>\n",
       "      <th>silver</th>\n",
       "      <th>bronze</th>\n",
       "    </tr>\n",
       "  </thead>\n",
       "  <tbody>\n",
       "    <tr>\n",
       "      <th>12</th>\n",
       "      <td>258556239</td>\n",
       "      <td>Abbas Qali</td>\n",
       "      <td>IOA</td>\n",
       "      <td>male</td>\n",
       "      <td>10/11/92</td>\n",
       "      <td>NaN</td>\n",
       "      <td>NaN</td>\n",
       "      <td>aquatics</td>\n",
       "      <td>0</td>\n",
       "      <td>0</td>\n",
       "      <td>0</td>\n",
       "    </tr>\n",
       "    <tr>\n",
       "      <th>47</th>\n",
       "      <td>469953606</td>\n",
       "      <td>Abdoullah Bamoussa</td>\n",
       "      <td>ITA</td>\n",
       "      <td>male</td>\n",
       "      <td>6/8/86</td>\n",
       "      <td>NaN</td>\n",
       "      <td>NaN</td>\n",
       "      <td>athletics</td>\n",
       "      <td>0</td>\n",
       "      <td>0</td>\n",
       "      <td>0</td>\n",
       "    </tr>\n",
       "    <tr>\n",
       "      <th>50</th>\n",
       "      <td>325809293</td>\n",
       "      <td>Abdul Omar</td>\n",
       "      <td>GHA</td>\n",
       "      <td>male</td>\n",
       "      <td>10/3/93</td>\n",
       "      <td>NaN</td>\n",
       "      <td>NaN</td>\n",
       "      <td>boxing</td>\n",
       "      <td>0</td>\n",
       "      <td>0</td>\n",
       "      <td>0</td>\n",
       "    </tr>\n",
       "    <tr>\n",
       "      <th>52</th>\n",
       "      <td>262868423</td>\n",
       "      <td>Abdulaziz Alshatti</td>\n",
       "      <td>IOA</td>\n",
       "      <td>male</td>\n",
       "      <td>10/30/90</td>\n",
       "      <td>NaN</td>\n",
       "      <td>NaN</td>\n",
       "      <td>fencing</td>\n",
       "      <td>0</td>\n",
       "      <td>0</td>\n",
       "      <td>0</td>\n",
       "    </tr>\n",
       "    <tr>\n",
       "      <th>56</th>\n",
       "      <td>897549624</td>\n",
       "      <td>Abdullah Hel Baki</td>\n",
       "      <td>BAN</td>\n",
       "      <td>male</td>\n",
       "      <td>8/1/89</td>\n",
       "      <td>NaN</td>\n",
       "      <td>NaN</td>\n",
       "      <td>shooting</td>\n",
       "      <td>0</td>\n",
       "      <td>0</td>\n",
       "      <td>0</td>\n",
       "    </tr>\n",
       "  </tbody>\n",
       "</table>\n",
       "</div>"
      ],
      "text/plain": [
       "           id                name nationality   sex       dob  height  weight  \\\n",
       "12  258556239          Abbas Qali         IOA  male  10/11/92     NaN     NaN   \n",
       "47  469953606  Abdoullah Bamoussa         ITA  male    6/8/86     NaN     NaN   \n",
       "50  325809293          Abdul Omar         GHA  male   10/3/93     NaN     NaN   \n",
       "52  262868423  Abdulaziz Alshatti         IOA  male  10/30/90     NaN     NaN   \n",
       "56  897549624   Abdullah Hel Baki         BAN  male    8/1/89     NaN     NaN   \n",
       "\n",
       "        sport  gold  silver  bronze  \n",
       "12   aquatics     0       0       0  \n",
       "47  athletics     0       0       0  \n",
       "50     boxing     0       0       0  \n",
       "52    fencing     0       0       0  \n",
       "56   shooting     0       0       0  "
      ]
     },
     "execution_count": 4,
     "metadata": {},
     "output_type": "execute_result"
    }
   ],
   "source": [
    "df[ pd.isnull( df['height'] ) ].head()"
   ]
  },
  {
   "cell_type": "code",
   "execution_count": 5,
   "id": "6b2834a3",
   "metadata": {},
   "outputs": [],
   "source": [
    "df = df[ pd.isnull( df['height'] ) == 0 ]\n",
    "df = df[ pd.isnull( df['weight'] ) == 0 ]"
   ]
  },
  {
   "cell_type": "code",
   "execution_count": 6,
   "id": "9663cd5f",
   "metadata": {},
   "outputs": [
    {
     "name": "stdout",
     "output_type": "stream",
     "text": [
      "<class 'pandas.core.frame.DataFrame'>\n",
      "Int64Index: 10858 entries, 0 to 11537\n",
      "Data columns (total 11 columns):\n",
      " #   Column       Non-Null Count  Dtype  \n",
      "---  ------       --------------  -----  \n",
      " 0   id           10858 non-null  int64  \n",
      " 1   name         10858 non-null  object \n",
      " 2   nationality  10858 non-null  object \n",
      " 3   sex          10858 non-null  object \n",
      " 4   dob          10858 non-null  object \n",
      " 5   height       10858 non-null  float64\n",
      " 6   weight       10858 non-null  float64\n",
      " 7   sport        10858 non-null  object \n",
      " 8   gold         10858 non-null  int64  \n",
      " 9   silver       10858 non-null  int64  \n",
      " 10  bronze       10858 non-null  int64  \n",
      "dtypes: float64(2), int64(4), object(5)\n",
      "memory usage: 1017.9+ KB\n"
     ]
    }
   ],
   "source": [
    "df = df.fillna(-1)\n",
    "df.info()"
   ]
  },
  {
   "cell_type": "markdown",
   "id": "9f45bb0d",
   "metadata": {},
   "source": [
    "### 2.Разделить выборку на обучающее данные и тестовые"
   ]
  },
  {
   "cell_type": "code",
   "execution_count": 7,
   "id": "501c42ba",
   "metadata": {},
   "outputs": [],
   "source": [
    "from sklearn.preprocessing import LabelEncoder, OneHotEncoder\n",
    "from sklearn.metrics import roc_curve\n",
    "le = LabelEncoder()\n",
    "ohe = OneHotEncoder()\n",
    "from sklearn.linear_model import LogisticRegression\n",
    "from sklearn.model_selection import train_test_split\n",
    "model = LogisticRegression()"
   ]
  },
  {
   "cell_type": "code",
   "execution_count": 8,
   "id": "91828355",
   "metadata": {},
   "outputs": [
    {
     "data": {
      "text/html": [
       "<div>\n",
       "<style scoped>\n",
       "    .dataframe tbody tr th:only-of-type {\n",
       "        vertical-align: middle;\n",
       "    }\n",
       "\n",
       "    .dataframe tbody tr th {\n",
       "        vertical-align: top;\n",
       "    }\n",
       "\n",
       "    .dataframe thead th {\n",
       "        text-align: right;\n",
       "    }\n",
       "</style>\n",
       "<table border=\"1\" class=\"dataframe\">\n",
       "  <thead>\n",
       "    <tr style=\"text-align: right;\">\n",
       "      <th></th>\n",
       "      <th>id</th>\n",
       "      <th>name</th>\n",
       "      <th>nationality</th>\n",
       "      <th>dob</th>\n",
       "      <th>height</th>\n",
       "      <th>weight</th>\n",
       "      <th>sport</th>\n",
       "      <th>gold</th>\n",
       "      <th>silver</th>\n",
       "      <th>bronze</th>\n",
       "    </tr>\n",
       "  </thead>\n",
       "  <tbody>\n",
       "    <tr>\n",
       "      <th>0</th>\n",
       "      <td>736041664</td>\n",
       "      <td>A Jesus Garcia</td>\n",
       "      <td>ESP</td>\n",
       "      <td>10/17/69</td>\n",
       "      <td>1.72</td>\n",
       "      <td>64.0</td>\n",
       "      <td>athletics</td>\n",
       "      <td>0</td>\n",
       "      <td>0</td>\n",
       "      <td>0</td>\n",
       "    </tr>\n",
       "    <tr>\n",
       "      <th>1</th>\n",
       "      <td>532037425</td>\n",
       "      <td>A Lam Shin</td>\n",
       "      <td>KOR</td>\n",
       "      <td>9/23/86</td>\n",
       "      <td>1.68</td>\n",
       "      <td>56.0</td>\n",
       "      <td>fencing</td>\n",
       "      <td>0</td>\n",
       "      <td>0</td>\n",
       "      <td>0</td>\n",
       "    </tr>\n",
       "    <tr>\n",
       "      <th>2</th>\n",
       "      <td>435962603</td>\n",
       "      <td>Aaron Brown</td>\n",
       "      <td>CAN</td>\n",
       "      <td>5/27/92</td>\n",
       "      <td>1.98</td>\n",
       "      <td>79.0</td>\n",
       "      <td>athletics</td>\n",
       "      <td>0</td>\n",
       "      <td>0</td>\n",
       "      <td>1</td>\n",
       "    </tr>\n",
       "  </tbody>\n",
       "</table>\n",
       "</div>"
      ],
      "text/plain": [
       "          id            name nationality       dob  height  weight      sport  \\\n",
       "0  736041664  A Jesus Garcia         ESP  10/17/69    1.72    64.0  athletics   \n",
       "1  532037425      A Lam Shin         KOR   9/23/86    1.68    56.0    fencing   \n",
       "2  435962603     Aaron Brown         CAN   5/27/92    1.98    79.0  athletics   \n",
       "\n",
       "   gold  silver  bronze  \n",
       "0     0       0       0  \n",
       "1     0       0       0  \n",
       "2     0       0       1  "
      ]
     },
     "execution_count": 8,
     "metadata": {},
     "output_type": "execute_result"
    }
   ],
   "source": [
    "features_columns = [c for c in df.columns if c != 'sex']\n",
    "X = df[features_columns]\n",
    "X.head(3)"
   ]
  },
  {
   "cell_type": "code",
   "execution_count": 9,
   "id": "b2f22a43",
   "metadata": {},
   "outputs": [
    {
     "name": "stdout",
     "output_type": "stream",
     "text": [
      "<class 'pandas.core.frame.DataFrame'>\n",
      "Int64Index: 10858 entries, 0 to 11537\n",
      "Data columns (total 11 columns):\n",
      " #   Column       Non-Null Count  Dtype  \n",
      "---  ------       --------------  -----  \n",
      " 0   id           10858 non-null  int64  \n",
      " 1   name         10858 non-null  object \n",
      " 2   nationality  10858 non-null  object \n",
      " 3   sex          10858 non-null  object \n",
      " 4   dob          10858 non-null  object \n",
      " 5   height       10858 non-null  float64\n",
      " 6   weight       10858 non-null  float64\n",
      " 7   sport        10858 non-null  object \n",
      " 8   gold         10858 non-null  int64  \n",
      " 9   silver       10858 non-null  int64  \n",
      " 10  bronze       10858 non-null  int64  \n",
      "dtypes: float64(2), int64(4), object(5)\n",
      "memory usage: 1017.9+ KB\n"
     ]
    }
   ],
   "source": [
    "ft = ohe.fit_transform(pd.get_dummies(df[['nationality', 'height', 'weight', 'sport', 'gold', 'silver', 'bronze']]))\n",
    "df.info()"
   ]
  },
  {
   "cell_type": "code",
   "execution_count": 10,
   "id": "cfee02f0",
   "metadata": {},
   "outputs": [
    {
     "name": "stdout",
     "output_type": "stream",
     "text": [
      "<class 'pandas.core.frame.DataFrame'>\n",
      "Int64Index: 10858 entries, 0 to 11537\n",
      "Data columns (total 5 columns):\n",
      " #   Column  Non-Null Count  Dtype  \n",
      "---  ------  --------------  -----  \n",
      " 0   height  10858 non-null  float64\n",
      " 1   weight  10858 non-null  float64\n",
      " 2   gold    10858 non-null  int64  \n",
      " 3   silver  10858 non-null  int64  \n",
      " 4   bronze  10858 non-null  int64  \n",
      "dtypes: float64(2), int64(3)\n",
      "memory usage: 509.0 KB\n"
     ]
    }
   ],
   "source": [
    "X = df[['height', 'weight', 'gold', 'silver', 'bronze']]\n",
    "X.info()"
   ]
  },
  {
   "cell_type": "code",
   "execution_count": 11,
   "id": "d5811624",
   "metadata": {},
   "outputs": [
    {
     "data": {
      "text/plain": [
       "LabelEncoder()"
      ]
     },
     "execution_count": 11,
     "metadata": {},
     "output_type": "execute_result"
    }
   ],
   "source": [
    "le.fit( df['sex'] )"
   ]
  },
  {
   "cell_type": "code",
   "execution_count": 12,
   "id": "3faa3c8e",
   "metadata": {},
   "outputs": [
    {
     "name": "stdout",
     "output_type": "stream",
     "text": [
      "<class 'pandas.core.series.Series'>\n",
      "RangeIndex: 10858 entries, 0 to 10857\n",
      "Series name: None\n",
      "Non-Null Count  Dtype\n",
      "--------------  -----\n",
      "10858 non-null  int64\n",
      "dtypes: int64(1)\n",
      "memory usage: 85.0 KB\n"
     ]
    }
   ],
   "source": [
    "y = pd.Series( data = le.transform( df['sex'] ) )\n",
    "y.info()"
   ]
  },
  {
   "cell_type": "code",
   "execution_count": 13,
   "id": "950f4b47",
   "metadata": {},
   "outputs": [],
   "source": [
    "model = LogisticRegression()"
   ]
  },
  {
   "cell_type": "code",
   "execution_count": 14,
   "id": "6da86fc4",
   "metadata": {},
   "outputs": [],
   "source": [
    "X_train, X_test, y_train, y_test = train_test_split(X, y, test_size=0.2)"
   ]
  },
  {
   "cell_type": "code",
   "execution_count": 15,
   "id": "68959d21",
   "metadata": {},
   "outputs": [
    {
     "data": {
      "text/plain": [
       "LogisticRegression()"
      ]
     },
     "execution_count": 15,
     "metadata": {},
     "output_type": "execute_result"
    }
   ],
   "source": [
    "model.fit(X_train, y_train)"
   ]
  },
  {
   "cell_type": "code",
   "execution_count": 16,
   "id": "eebabadf",
   "metadata": {},
   "outputs": [
    {
     "data": {
      "text/plain": [
       "array([[0.02948803, 0.97051197],\n",
       "       [0.94603392, 0.05396608],\n",
       "       [0.02058997, 0.97941003],\n",
       "       ...,\n",
       "       [0.79082521, 0.20917479],\n",
       "       [0.65953766, 0.34046234],\n",
       "       [0.90455437, 0.09544563]])"
      ]
     },
     "execution_count": 16,
     "metadata": {},
     "output_type": "execute_result"
    }
   ],
   "source": [
    "predictions = model.predict_proba(X_test)\n",
    "predictions"
   ]
  },
  {
   "cell_type": "code",
   "execution_count": 47,
   "id": "067df023",
   "metadata": {},
   "outputs": [
    {
     "data": {
      "text/plain": [
       "array([0.        , 0.        , 0.        , 0.00102041, 0.00102041,\n",
       "       0.00102041, 0.00102041, 0.00204082, 0.00204082, 0.00306122,\n",
       "       0.00306122, 0.00408163, 0.00408163, 0.00510204, 0.00510204,\n",
       "       0.00510204, 0.00510204, 0.00510204, 0.00510204, 0.00612245,\n",
       "       0.00612245, 0.00714286, 0.00714286, 0.00816327, 0.00816327,\n",
       "       0.00816327, 0.00816327, 0.00918367, 0.00918367, 0.00918367,\n",
       "       0.00918367, 0.00918367, 0.00918367, 0.01020408, 0.01020408,\n",
       "       0.01020408, 0.01122449, 0.01122449, 0.01122449, 0.0122449 ,\n",
       "       0.0122449 , 0.01326531, 0.01326531, 0.01428571, 0.01428571,\n",
       "       0.01428571, 0.01428571, 0.01530612, 0.01530612, 0.01530612,\n",
       "       0.01530612, 0.01530612, 0.01530612, 0.01632653, 0.01632653,\n",
       "       0.01632653, 0.01632653, 0.01632653, 0.01632653, 0.01632653,\n",
       "       0.01632653, 0.01734694, 0.01734694, 0.01836735, 0.01836735,\n",
       "       0.01836735, 0.01836735, 0.01938776, 0.01938776, 0.01938776,\n",
       "       0.01938776, 0.01938776, 0.01938776, 0.01938776, 0.02040816,\n",
       "       0.02040816, 0.02040816, 0.02040816, 0.02142857, 0.02142857,\n",
       "       0.02142857, 0.02244898, 0.02244898, 0.02346939, 0.02346939,\n",
       "       0.02346939, 0.02346939, 0.02346939, 0.02346939, 0.02346939,\n",
       "       0.02346939, 0.02346939, 0.02346939, 0.0244898 , 0.0244898 ,\n",
       "       0.0244898 , 0.0244898 , 0.0244898 , 0.0244898 , 0.0244898 ,\n",
       "       0.0244898 , 0.0244898 , 0.0244898 , 0.0255102 , 0.0255102 ,\n",
       "       0.0255102 , 0.0255102 , 0.0255102 , 0.0255102 , 0.02653061,\n",
       "       0.02653061, 0.02653061, 0.02755102, 0.02755102, 0.02755102,\n",
       "       0.02755102, 0.02755102, 0.02755102, 0.02959184, 0.02959184,\n",
       "       0.02959184, 0.02959184, 0.02959184, 0.02959184, 0.03061224,\n",
       "       0.03061224, 0.03163265, 0.03163265, 0.03265306, 0.03265306,\n",
       "       0.03367347, 0.03367347, 0.03367347, 0.03367347, 0.03367347,\n",
       "       0.03367347, 0.03367347, 0.03469388, 0.03469388, 0.03571429,\n",
       "       0.03571429, 0.03571429, 0.03571429, 0.03571429, 0.03571429,\n",
       "       0.03571429, 0.03571429, 0.03571429, 0.03571429, 0.03571429,\n",
       "       0.03673469, 0.0377551 , 0.0377551 , 0.0377551 , 0.0377551 ,\n",
       "       0.03877551, 0.03877551, 0.03877551, 0.03979592, 0.03979592,\n",
       "       0.03979592, 0.03979592, 0.04183673, 0.04183673, 0.04183673,\n",
       "       0.04285714, 0.04387755, 0.04387755, 0.04387755, 0.04387755,\n",
       "       0.04489796, 0.04489796, 0.04693878, 0.04693878, 0.04795918,\n",
       "       0.04795918, 0.04795918, 0.04795918, 0.04897959, 0.04897959,\n",
       "       0.04897959, 0.04897959, 0.04897959, 0.04897959, 0.05      ,\n",
       "       0.05      , 0.05102041, 0.05306122, 0.05306122, 0.05306122,\n",
       "       0.05408163, 0.05408163, 0.05408163, 0.05408163, 0.05408163,\n",
       "       0.05408163, 0.05510204, 0.05612245, 0.05612245, 0.05612245,\n",
       "       0.05612245, 0.05714286, 0.05714286, 0.05714286, 0.05714286,\n",
       "       0.05714286, 0.05816327, 0.05816327, 0.05816327, 0.05816327,\n",
       "       0.05816327, 0.05918367, 0.05918367, 0.05918367, 0.06020408,\n",
       "       0.06020408, 0.06122449, 0.06122449, 0.0622449 , 0.06326531,\n",
       "       0.06326531, 0.06326531, 0.06428571, 0.06428571, 0.06530612,\n",
       "       0.06632653, 0.06632653, 0.06632653, 0.06632653, 0.06632653,\n",
       "       0.06632653, 0.06632653, 0.06632653, 0.06734694, 0.06734694,\n",
       "       0.06734694, 0.06734694, 0.06734694, 0.06734694, 0.06734694,\n",
       "       0.06734694, 0.06836735, 0.06836735, 0.06836735, 0.06836735,\n",
       "       0.06938776, 0.07040816, 0.07040816, 0.07142857, 0.07244898,\n",
       "       0.07244898, 0.07244898, 0.07244898, 0.07244898, 0.07244898,\n",
       "       0.07244898, 0.07346939, 0.0744898 , 0.0755102 , 0.0755102 ,\n",
       "       0.07653061, 0.07755102, 0.07755102, 0.07857143, 0.07857143,\n",
       "       0.07959184, 0.07959184, 0.08061224, 0.08061224, 0.08265306,\n",
       "       0.08265306, 0.08367347, 0.08367347, 0.08469388, 0.08469388,\n",
       "       0.08673469, 0.0877551 , 0.0877551 , 0.08877551, 0.08979592,\n",
       "       0.08979592, 0.09081633, 0.09081633, 0.09081633, 0.09183673,\n",
       "       0.09285714, 0.09285714, 0.09285714, 0.09285714, 0.09387755,\n",
       "       0.09387755, 0.09489796, 0.09489796, 0.09591837, 0.09591837,\n",
       "       0.09693878, 0.09897959, 0.09897959, 0.1       , 0.10102041,\n",
       "       0.10102041, 0.10306122, 0.10306122, 0.10306122, 0.10408163,\n",
       "       0.10408163, 0.10510204, 0.10510204, 0.10510204, 0.10510204,\n",
       "       0.10612245, 0.10612245, 0.10714286, 0.10714286, 0.10714286,\n",
       "       0.10816327, 0.10918367, 0.11020408, 0.11020408, 0.11020408,\n",
       "       0.11020408, 0.11020408, 0.11020408, 0.1122449 , 0.1122449 ,\n",
       "       0.1122449 , 0.1122449 , 0.11428571, 0.11530612, 0.11530612,\n",
       "       0.11734694, 0.11836735, 0.11836735, 0.12040816, 0.12040816,\n",
       "       0.12244898, 0.12244898, 0.1244898 , 0.1244898 , 0.1255102 ,\n",
       "       0.1255102 , 0.12653061, 0.12653061, 0.12755102, 0.12755102,\n",
       "       0.12959184, 0.12959184, 0.13061224, 0.13061224, 0.13265306,\n",
       "       0.13265306, 0.13367347, 0.13571429, 0.1377551 , 0.1377551 ,\n",
       "       0.13877551, 0.13979592, 0.14183673, 0.14183673, 0.14387755,\n",
       "       0.14489796, 0.14693878, 0.14693878, 0.14795918, 0.14795918,\n",
       "       0.15      , 0.15102041, 0.15102041, 0.15102041, 0.15204082,\n",
       "       0.15204082, 0.15408163, 0.15408163, 0.15612245, 0.15612245,\n",
       "       0.15714286, 0.15816327, 0.15918367, 0.15918367, 0.16122449,\n",
       "       0.16530612, 0.16530612, 0.16734694, 0.16836735, 0.16836735,\n",
       "       0.16938776, 0.17244898, 0.17244898, 0.17346939, 0.1744898 ,\n",
       "       0.17653061, 0.17959184, 0.18061224, 0.18367347, 0.18571429,\n",
       "       0.18673469, 0.18877551, 0.18877551, 0.18979592, 0.19081633,\n",
       "       0.19285714, 0.19489796, 0.19489796, 0.19591837, 0.19591837,\n",
       "       0.19693878, 0.19897959, 0.19897959, 0.2       , 0.20204082,\n",
       "       0.20204082, 0.20714286, 0.21020408, 0.21020408, 0.2122449 ,\n",
       "       0.2122449 , 0.21428571, 0.21428571, 0.21530612, 0.21530612,\n",
       "       0.21530612, 0.21836735, 0.21938776, 0.22142857, 0.22142857,\n",
       "       0.2244898 , 0.2255102 , 0.2255102 , 0.22755102, 0.22755102,\n",
       "       0.22755102, 0.22755102, 0.22857143, 0.22857143, 0.22959184,\n",
       "       0.23061224, 0.23061224, 0.23265306, 0.23265306, 0.23367347,\n",
       "       0.23673469, 0.23673469, 0.2377551 , 0.23877551, 0.23979592,\n",
       "       0.24081633, 0.24081633, 0.24183673, 0.24387755, 0.24489796,\n",
       "       0.24489796, 0.24693878, 0.24693878, 0.24693878, 0.24897959,\n",
       "       0.25204082, 0.25510204, 0.25714286, 0.26122449, 0.26122449,\n",
       "       0.2622449 , 0.26428571, 0.26530612, 0.26632653, 0.26632653,\n",
       "       0.26632653, 0.26734694, 0.26734694, 0.26836735, 0.26836735,\n",
       "       0.27040816, 0.27040816, 0.27142857, 0.2744898 , 0.2755102 ,\n",
       "       0.2755102 , 0.27653061, 0.27653061, 0.27755102, 0.27857143,\n",
       "       0.28163265, 0.28265306, 0.28265306, 0.28367347, 0.28367347,\n",
       "       0.28469388, 0.28571429, 0.28673469, 0.2877551 , 0.28877551,\n",
       "       0.29081633, 0.29285714, 0.29489796, 0.29489796, 0.29693878,\n",
       "       0.29795918, 0.3       , 0.30306122, 0.30408163, 0.30408163,\n",
       "       0.30612245, 0.30918367, 0.31020408, 0.31122449, 0.31326531,\n",
       "       0.31530612, 0.31734694, 0.31734694, 0.31938776, 0.32040816,\n",
       "       0.32142857, 0.32346939, 0.32346939, 0.3244898 , 0.3255102 ,\n",
       "       0.3255102 , 0.32653061, 0.32959184, 0.32959184, 0.33367347,\n",
       "       0.33367347, 0.33469388, 0.33469388, 0.34081633, 0.34081633,\n",
       "       0.34285714, 0.34489796, 0.34591837, 0.34795918, 0.34897959,\n",
       "       0.34897959, 0.35204082, 0.35306122, 0.35306122, 0.35408163,\n",
       "       0.35408163, 0.35612245, 0.35612245, 0.35714286, 0.35918367,\n",
       "       0.36020408, 0.36122449, 0.36122449, 0.36326531, 0.36938776,\n",
       "       0.36938776, 0.37244898, 0.37346939, 0.37346939, 0.3755102 ,\n",
       "       0.37755102, 0.37959184, 0.38265306, 0.38469388, 0.38673469,\n",
       "       0.39489796, 0.39795918, 0.39897959, 0.4       , 0.40204082,\n",
       "       0.40306122, 0.40408163, 0.40714286, 0.40816327, 0.40816327,\n",
       "       0.40918367, 0.41020408, 0.41020408, 0.41122449, 0.41122449,\n",
       "       0.41326531, 0.41734694, 0.41938776, 0.42142857, 0.42244898,\n",
       "       0.42346939, 0.42346939, 0.4244898 , 0.42755102, 0.42857143,\n",
       "       0.42959184, 0.42959184, 0.43061224, 0.43367347, 0.4377551 ,\n",
       "       0.4377551 , 0.43877551, 0.43979592, 0.44183673, 0.44387755,\n",
       "       0.44387755, 0.44489796, 0.44897959, 0.45102041, 0.45204082,\n",
       "       0.45510204, 0.45612245, 0.46020408, 0.4622449 , 0.46428571,\n",
       "       0.46836735, 0.47040816, 0.47244898, 0.47244898, 0.47653061,\n",
       "       0.47755102, 0.47959184, 0.48163265, 0.48265306, 0.48265306,\n",
       "       0.48367347, 0.48673469, 0.4877551 , 0.48877551, 0.49183673,\n",
       "       0.49285714, 0.49489796, 0.49591837, 0.49795918, 0.5       ,\n",
       "       0.50204082, 0.50204082, 0.50408163, 0.50612245, 0.50612245,\n",
       "       0.50714286, 0.50816327, 0.50918367, 0.51122449, 0.51326531,\n",
       "       0.51734694, 0.51836735, 0.5244898 , 0.52653061, 0.52857143,\n",
       "       0.53061224, 0.53265306, 0.53265306, 0.53367347, 0.53571429,\n",
       "       0.53673469, 0.53673469, 0.5377551 , 0.54081633, 0.54285714,\n",
       "       0.54285714, 0.54897959, 0.55102041, 0.55408163, 0.55612245,\n",
       "       0.55918367, 0.56020408, 0.56326531, 0.56326531, 0.56428571,\n",
       "       0.56632653, 0.56734694, 0.57142857, 0.57244898, 0.57653061,\n",
       "       0.57755102, 0.57959184, 0.58061224, 0.58061224, 0.58469388,\n",
       "       0.58571429, 0.5877551 , 0.59081633, 0.59183673, 0.59387755,\n",
       "       0.59897959, 0.60408163, 0.60510204, 0.60714286, 0.60918367,\n",
       "       0.6122449 , 0.61428571, 0.61836735, 0.62244898, 0.62857143,\n",
       "       0.63265306, 0.6377551 , 0.64183673, 0.64489796, 0.64693878,\n",
       "       0.65      , 0.65204082, 0.65306122, 0.65714286, 0.66020408,\n",
       "       0.66020408, 0.66326531, 0.66326531, 0.66734694, 0.66836735,\n",
       "       0.6755102 , 0.68265306, 0.68265306, 0.68367347, 0.68571429,\n",
       "       0.68979592, 0.69081633, 0.69489796, 0.69591837, 0.69693878,\n",
       "       0.69897959, 0.7       , 0.70510204, 0.70816327, 0.70918367,\n",
       "       0.7122449 , 0.71530612, 0.71938776, 0.72040816, 0.72959184,\n",
       "       0.73163265, 0.73265306, 0.73367347, 0.73673469, 0.73877551,\n",
       "       0.73877551, 0.74081633, 0.74489796, 0.74489796, 0.74693878,\n",
       "       0.74795918, 0.75102041, 0.75204082, 0.75612245, 0.75612245,\n",
       "       0.75714286, 0.75918367, 0.76122449, 0.7622449 , 0.76530612,\n",
       "       0.76734694, 0.76734694, 0.76836735, 0.77040816, 0.7744898 ,\n",
       "       0.77857143, 0.78061224, 0.78265306, 0.78469388, 0.7877551 ,\n",
       "       0.78979592, 0.78979592, 0.79081633, 0.79693878, 0.79897959,\n",
       "       0.79897959, 0.8       , 0.8       , 0.80510204, 0.80612245,\n",
       "       0.80612245, 0.80714286, 0.81326531, 0.81530612, 0.81734694,\n",
       "       0.81938776, 0.82142857, 0.82346939, 0.82346939, 0.82653061,\n",
       "       0.82653061, 0.82959184, 0.83061224, 0.83265306, 0.83469388,\n",
       "       0.83673469, 0.83877551, 0.84285714, 0.84591837, 0.84693878,\n",
       "       0.85102041, 0.85306122, 0.85408163, 0.85612245, 0.85918367,\n",
       "       0.86020408, 0.86020408, 0.86428571, 0.86530612, 0.86734694,\n",
       "       0.87040816, 0.87040816, 0.87244898, 0.88367347, 0.88673469,\n",
       "       0.88877551, 0.89081633, 0.89387755, 0.89795918, 0.89795918,\n",
       "       0.89897959, 0.90102041, 0.90306122, 0.90510204, 0.90918367,\n",
       "       0.9122449 , 0.91734694, 0.92142857, 0.92346939, 0.9255102 ,\n",
       "       0.92857143, 0.93367347, 0.93367347, 0.9377551 , 0.94285714,\n",
       "       0.94285714, 0.94387755, 0.94489796, 0.95510204, 0.95714286,\n",
       "       0.95714286, 0.96122449, 0.96734694, 0.96938776, 0.97346939,\n",
       "       0.97653061, 1.        ])"
      ]
     },
     "execution_count": 47,
     "metadata": {},
     "output_type": "execute_result"
    }
   ],
   "source": [
    "fpr, tpr, thres = roc_curve( y_test, predictions[:, 1])\n",
    "fpr"
   ]
  },
  {
   "cell_type": "markdown",
   "id": "3ecc0b82",
   "metadata": {},
   "source": [
    "### 3 Посройте ROC-кривую"
   ]
  },
  {
   "cell_type": "code",
   "execution_count": 50,
   "id": "ca0bceef",
   "metadata": {},
   "outputs": [
    {
     "data": {
      "text/plain": [
       "[<matplotlib.lines.Line2D at 0x7fe309ce32e0>]"
      ]
     },
     "execution_count": 50,
     "metadata": {},
     "output_type": "execute_result"
    },
    {
     "data": {
      "image/png": "[encoded data removed]",
      "text/plain": [
       "<Figure size 640x480 with 1 Axes>"
      ]
     },
     "metadata": {},
     "output_type": "display_data"
    }
   ],
   "source": [
    "plt.plot(fpr,tpr)"
   ]
  },
  {
   "cell_type": "markdown",
   "id": "e47d82ce",
   "metadata": {},
   "source": [
    "### 4 Вычислите значение ROC-AUC метрики"
   ]
  },
  {
   "cell_type": "code",
   "execution_count": 19,
   "id": "1dcec606",
   "metadata": {},
   "outputs": [],
   "source": [
    "from sklearn.metrics import roc_auc_score"
   ]
  },
  {
   "cell_type": "code",
   "execution_count": 20,
   "id": "0020ae80",
   "metadata": {},
   "outputs": [
    {
     "data": {
      "text/plain": [
       "0.8496524448705656"
      ]
     },
     "execution_count": 20,
     "metadata": {},
     "output_type": "execute_result"
    }
   ],
   "source": [
    "roc_auc_score(y_test, predictions[:,1])"
   ]
  },
  {
   "cell_type": "markdown",
   "id": "514694a5",
   "metadata": {},
   "source": [
    "### 5 Реализуйте подсчёт метрик TPR, FPR \"вручную\", без использования готовых функций из библиотек"
   ]
  },
  {
   "cell_type": "code",
   "execution_count": 24,
   "id": "19f9e9cb",
   "metadata": {},
   "outputs": [
    {
     "name": "stdout",
     "output_type": "stream",
     "text": [
      "TPR:919, FPR:232\n"
     ]
    }
   ],
   "source": [
    "tp = fp = fn = tn = 0\n",
    "for prob, actual in zip(predictions[:,1], y_test):\n",
    "    if prob>=0.5:\n",
    "        if actual == 1:\n",
    "            tp+=1\n",
    "        else:\n",
    "            fp += 1\n",
    "    else:\n",
    "        if actual == 1:\n",
    "            fn += 1\n",
    "        else:\n",
    "            tn += 1\n",
    "print(f'TPR:{tp}, FPR:{fp}')"
   ]
  },
  {
   "cell_type": "markdown",
   "id": "47e5a9ef",
   "metadata": {},
   "source": [
    "### 6. Постройте ROC-кривую с помощью вычислений из пункта 5"
   ]
  },
  {
   "cell_type": "code",
   "execution_count": 43,
   "id": "f160ce41",
   "metadata": {},
   "outputs": [],
   "source": [
    "TPR = np.array([])\n",
    "FPR = np.array([])\n",
    "for x in np.arange(0.,1.,0.0001):\n",
    "    tp = fp = fn = tn = 0\n",
    "    for prob, actual in zip(predictions[:,1], y_test):\n",
    "        if prob>=x:\n",
    "            if actual == 1:\n",
    "                tp+=1\n",
    "            else:\n",
    "                fp += 1\n",
    "        else:\n",
    "            if actual == 1:\n",
    "                fn += 1\n",
    "            else:\n",
    "                tn += 1\n",
    "    TPR = np.append(TPR, tp/(tp+fn))\n",
    "    FPR = np.append(FPR, fp/(tn+fp))"
   ]
  },
  {
   "cell_type": "code",
   "execution_count": 56,
   "id": "b9adcb22",
   "metadata": {},
   "outputs": [
    {
     "data": {
      "image/png": "[encoded data removed]",
      "text/plain": [
       "<Figure size 640x480 with 1 Axes>"
      ]
     },
     "metadata": {},
     "output_type": "display_data"
    }
   ],
   "source": [
    "plt.plot(fpr, tpr, label='Библиотекой' )\n",
    "plt.plot(FPR, TPR, label='Вручную')\n",
    "\n",
    "plt.xlabel('False Positive Rate')\n",
    "plt.ylabel('True Positive Rate')\n",
    "\n",
    "plt.legend(loc=0)\n",
    "plt.grid()\n",
    "plt.show()"
   ]
  },
  {
   "cell_type": "markdown",
   "id": "4aead120",
   "metadata": {},
   "source": [
    "### 6. Precision-Call"
   ]
  },
  {
   "cell_type": "code",
   "execution_count": 73,
   "id": "292d814e",
   "metadata": {},
   "outputs": [],
   "source": [
    "\n",
    "precision = np.array([])\n",
    "recall = np.array([])\n",
    "for x in np.arange(0.,1.,0.0001):\n",
    "    tp = fp = fn = tn = 0\n",
    "    for prob, actual in zip(predictions[:,1], y_test):\n",
    "        if prob>=x:\n",
    "            if actual == 1:\n",
    "                tp+=1\n",
    "            else:\n",
    "                fp += 1\n",
    "        else:\n",
    "            if actual == 1:\n",
    "                fn += 1\n",
    "            else:\n",
    "                tn += 1\n",
    "    precision = np.append(precision, tp/(tp+fp))\n",
    "    recall = np.append(recall, tp/(tp+fn))"
   ]
  },
  {
   "cell_type": "code",
   "execution_count": 75,
   "id": "c42e479c",
   "metadata": {},
   "outputs": [
    {
     "data": {
      "image/png": "[encoded data removed]",
      "text/plain": [
       "<Figure size 640x480 with 1 Axes>"
      ]
     },
     "metadata": {},
     "output_type": "display_data"
    }
   ],
   "source": [
    "plt.plot( recall,precision, label='Вручную')\n",
    "\n",
    "plt.xlabel('recall')\n",
    "plt.ylabel('precision')\n",
    "\n",
    "plt.legend(loc=0)\n",
    "plt.grid()\n",
    "plt.show()"
   ]
  },
  {
   "cell_type": "code",
   "execution_count": null,
   "id": "727cfd3f",
   "metadata": {},
   "outputs": [],
   "source": []
  }
 ],
 "metadata": {
  "kernelspec": {
   "display_name": "Python 3 (ipykernel)",
   "language": "python",
   "name": "python3"
  },
  "language_info": {
   "codemirror_mode": {
    "name": "ipython",
    "version": 3
   },
   "file_extension": ".py",
   "mimetype": "text/x-python",
   "name": "python",
   "nbconvert_exporter": "python",
   "pygments_lexer": "ipython3",
   "version": "3.8.8"
  }
 },
 "nbformat": 4,
 "nbformat_minor": 5
}
