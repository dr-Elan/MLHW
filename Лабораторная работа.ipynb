{
 "cells": [
  {
   "cell_type": "code",
   "execution_count": 1,
   "id": "661deaa4",
   "metadata": {},
   "outputs": [],
   "source": [
    "\n",
    "\n",
    "# 1. Соберите данные о погоде. Вы можете использовать открытые погодные API, такие как OpenWeatherMap или Weatherbit, или веб-скрейпинг с погодных сайтов. Вот пример запроса к OpenWeatherMap API, использующий библиотеку Requests:\n",
    "import requests\n",
    "\n",
    "def get_weather_data(city):\n",
    "    api_key = \"YOUR_API_KEY\"\n",
    "    url = f\"http://api.openweathermap.org/data/2.5/weather?q={city}&appid={api_key}\"\n",
    "    response = requests.get(url)\n",
    "    data = response.json()\n",
    "    return data"
   ]
  },
  {
   "cell_type": "code",
   "execution_count": 3,
   "id": "5391ccb3",
   "metadata": {},
   "outputs": [],
   "source": [
    "# 2. Используйте полученные данные для создания графиков изменения температуры в разных городах и графиков распределения температуры. Вот пример использования Pandas и Matplotlib:\n",
    "import pandas as pd\n",
    "import matplotlib.pyplot as plt\n",
    "\n",
    "def plot_temperature_change(data):\n",
    "    df = pd.DataFrame(data)\n",
    "    df[\"timestamp\"] = pd.to_datetime(df[\"timestamp\"])\n",
    "    df.set_index(\"timestamp\", inplace=True)\n",
    "    df.groupby(\"city\")[\"temperature\"].plot(legend=True)\n",
    "    plt.xlabel(\"Date\")\n",
    "    plt.ylabel(\"Temperature (Celsius)\")\n",
    "    plt.title(\"Temperature Change in Different Cities\")\n",
    "    plt.show()\n",
    "\n",
    "def plot_temperature_distribution(data):\n",
    "    df = pd.DataFrame(data)\n",
    "    plt.hist(df[\"temperature\"], bins=10, edgecolor=\"black\")\n",
    "    plt.xlabel(\"Temperature (Celsius)\")\n",
    "    plt.ylabel(\"Frequency\")\n",
    "    plt.title(\"Temperature Distribution\")\n",
    "    plt.show()\n",
    "\n",
    "\n",
    "# 3. Сохраните результаты в HDFS. Для этого вам понадобится установить и настроить Hadoop на своей машине. Загрузите данные в HDFS с помощью команды `hdfs dfs -put`:\n",
    "\n",
    "\n",
    "# hdfs dfs -put data.csv /path/to/hdfs/directory/data.csv\n",
    "\n",
    "\n",
    "# 4. Выгрузите результаты из HDFS на локальный компьютер. Используйте команду `hdfs dfs -get`:\n",
    "\n",
    "\n",
    "# hdfs dfs -get /path/to/hdfs/directory/data.csv .\n",
    "\n",
    "\n",
    "\n"
   ]
  },
  {
   "cell_type": "code",
   "execution_count": 4,
   "id": "624561d6",
   "metadata": {},
   "outputs": [
    {
     "data": {
      "text/plain": [
       "{'cod': 401,\n",
       " 'message': 'Invalid API key. Please see https://openweathermap.org/faq#error401 for more info.'}"
      ]
     },
     "execution_count": 4,
     "metadata": {},
     "output_type": "execute_result"
    }
   ],
   "source": [
    "get_weather_data('Moscow')"
   ]
  },
  {
   "cell_type": "code",
   "execution_count": null,
   "id": "bd55fd10",
   "metadata": {},
   "outputs": [],
   "source": []
  }
 ],
 "metadata": {
  "kernelspec": {
   "display_name": "Python 3 (ipykernel)",
   "language": "python",
   "name": "python3"
  },
  "language_info": {
   "codemirror_mode": {
    "name": "ipython",
    "version": 3
   },
   "file_extension": ".py",
   "mimetype": "text/x-python",
   "name": "python",
   "nbconvert_exporter": "python",
   "pygments_lexer": "ipython3",
   "version": "3.8.8"
  }
 },
 "nbformat": 4,
 "nbformat_minor": 5
}
