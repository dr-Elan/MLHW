{
 "cells": [
  {
   "cell_type": "code",
   "execution_count": 1,
   "id": "763f9ca3",
   "metadata": {},
   "outputs": [],
   "source": [
    "import matplotlib.pyplot as plt\n",
    "import pandas as pd\n",
    "import numpy as np\n",
    "from sklearn.datasets import load_iris"
   ]
  },
  {
   "cell_type": "markdown",
   "id": "6a86abf2",
   "metadata": {},
   "source": [
    "### 1. Загрузить данные. Используйте датасет с ирисами. Его можно загрузить непосредственно из библиотеки Sklearn. В данных оставьте только 2 класса: Iris Versicolor, Iris Virginica."
   ]
  },
  {
   "cell_type": "code",
   "execution_count": 2,
   "id": "de5d8768",
   "metadata": {},
   "outputs": [
    {
     "data": {
      "text/html": [
       "<div>\n",
       "<style scoped>\n",
       "    .dataframe tbody tr th:only-of-type {\n",
       "        vertical-align: middle;\n",
       "    }\n",
       "\n",
       "    .dataframe tbody tr th {\n",
       "        vertical-align: top;\n",
       "    }\n",
       "\n",
       "    .dataframe thead th {\n",
       "        text-align: right;\n",
       "    }\n",
       "</style>\n",
       "<table border=\"1\" class=\"dataframe\">\n",
       "  <thead>\n",
       "    <tr style=\"text-align: right;\">\n",
       "      <th></th>\n",
       "      <th>sepal length (cm)</th>\n",
       "      <th>sepal width (cm)</th>\n",
       "      <th>petal length (cm)</th>\n",
       "      <th>petal width (cm)</th>\n",
       "      <th>target</th>\n",
       "      <th>name</th>\n",
       "    </tr>\n",
       "  </thead>\n",
       "  <tbody>\n",
       "    <tr>\n",
       "      <th>0</th>\n",
       "      <td>5.1</td>\n",
       "      <td>3.5</td>\n",
       "      <td>1.4</td>\n",
       "      <td>0.2</td>\n",
       "      <td>0</td>\n",
       "      <td>setosa</td>\n",
       "    </tr>\n",
       "    <tr>\n",
       "      <th>1</th>\n",
       "      <td>4.9</td>\n",
       "      <td>3.0</td>\n",
       "      <td>1.4</td>\n",
       "      <td>0.2</td>\n",
       "      <td>0</td>\n",
       "      <td>setosa</td>\n",
       "    </tr>\n",
       "    <tr>\n",
       "      <th>2</th>\n",
       "      <td>4.7</td>\n",
       "      <td>3.2</td>\n",
       "      <td>1.3</td>\n",
       "      <td>0.2</td>\n",
       "      <td>0</td>\n",
       "      <td>setosa</td>\n",
       "    </tr>\n",
       "    <tr>\n",
       "      <th>3</th>\n",
       "      <td>4.6</td>\n",
       "      <td>3.1</td>\n",
       "      <td>1.5</td>\n",
       "      <td>0.2</td>\n",
       "      <td>0</td>\n",
       "      <td>setosa</td>\n",
       "    </tr>\n",
       "    <tr>\n",
       "      <th>4</th>\n",
       "      <td>5.0</td>\n",
       "      <td>3.6</td>\n",
       "      <td>1.4</td>\n",
       "      <td>0.2</td>\n",
       "      <td>0</td>\n",
       "      <td>setosa</td>\n",
       "    </tr>\n",
       "    <tr>\n",
       "      <th>...</th>\n",
       "      <td>...</td>\n",
       "      <td>...</td>\n",
       "      <td>...</td>\n",
       "      <td>...</td>\n",
       "      <td>...</td>\n",
       "      <td>...</td>\n",
       "    </tr>\n",
       "    <tr>\n",
       "      <th>145</th>\n",
       "      <td>6.7</td>\n",
       "      <td>3.0</td>\n",
       "      <td>5.2</td>\n",
       "      <td>2.3</td>\n",
       "      <td>2</td>\n",
       "      <td>virginica</td>\n",
       "    </tr>\n",
       "    <tr>\n",
       "      <th>146</th>\n",
       "      <td>6.3</td>\n",
       "      <td>2.5</td>\n",
       "      <td>5.0</td>\n",
       "      <td>1.9</td>\n",
       "      <td>2</td>\n",
       "      <td>virginica</td>\n",
       "    </tr>\n",
       "    <tr>\n",
       "      <th>147</th>\n",
       "      <td>6.5</td>\n",
       "      <td>3.0</td>\n",
       "      <td>5.2</td>\n",
       "      <td>2.0</td>\n",
       "      <td>2</td>\n",
       "      <td>virginica</td>\n",
       "    </tr>\n",
       "    <tr>\n",
       "      <th>148</th>\n",
       "      <td>6.2</td>\n",
       "      <td>3.4</td>\n",
       "      <td>5.4</td>\n",
       "      <td>2.3</td>\n",
       "      <td>2</td>\n",
       "      <td>virginica</td>\n",
       "    </tr>\n",
       "    <tr>\n",
       "      <th>149</th>\n",
       "      <td>5.9</td>\n",
       "      <td>3.0</td>\n",
       "      <td>5.1</td>\n",
       "      <td>1.8</td>\n",
       "      <td>2</td>\n",
       "      <td>virginica</td>\n",
       "    </tr>\n",
       "  </tbody>\n",
       "</table>\n",
       "<p>150 rows × 6 columns</p>\n",
       "</div>"
      ],
      "text/plain": [
       "     sepal length (cm)  sepal width (cm)  petal length (cm)  petal width (cm)  \\\n",
       "0                  5.1               3.5                1.4               0.2   \n",
       "1                  4.9               3.0                1.4               0.2   \n",
       "2                  4.7               3.2                1.3               0.2   \n",
       "3                  4.6               3.1                1.5               0.2   \n",
       "4                  5.0               3.6                1.4               0.2   \n",
       "..                 ...               ...                ...               ...   \n",
       "145                6.7               3.0                5.2               2.3   \n",
       "146                6.3               2.5                5.0               1.9   \n",
       "147                6.5               3.0                5.2               2.0   \n",
       "148                6.2               3.4                5.4               2.3   \n",
       "149                5.9               3.0                5.1               1.8   \n",
       "\n",
       "     target       name  \n",
       "0         0     setosa  \n",
       "1         0     setosa  \n",
       "2         0     setosa  \n",
       "3         0     setosa  \n",
       "4         0     setosa  \n",
       "..      ...        ...  \n",
       "145       2  virginica  \n",
       "146       2  virginica  \n",
       "147       2  virginica  \n",
       "148       2  virginica  \n",
       "149       2  virginica  \n",
       "\n",
       "[150 rows x 6 columns]"
      ]
     },
     "execution_count": 2,
     "metadata": {},
     "output_type": "execute_result"
    }
   ],
   "source": [
    "iris = load_iris()\n",
    "iris_frame = pd.DataFrame(iris.data) # составляем датафрейм из даннных\n",
    "iris_frame.columns = iris.feature_names # названия колонок в датафрейме делаем такими же как и в оригинале\n",
    "iris_frame['target'] = iris.target # добавляем столбец с целевыми показателями\n",
    "iris_frame['name'] = iris_frame.target.apply(lambda x : iris.target_names[x]) # сорта ириса для удобсвта\n",
    "iris_frame"
   ]
  },
  {
   "cell_type": "code",
   "execution_count": 3,
   "id": "4d391c00",
   "metadata": {},
   "outputs": [
    {
     "data": {
      "text/plain": [
       "(100, 4)"
      ]
     },
     "execution_count": 3,
     "metadata": {},
     "output_type": "execute_result"
    }
   ],
   "source": [
    "X = load_iris().data[50:]\n",
    "y = load_iris().target[50:]\n",
    "X.shape"
   ]
  },
  {
   "cell_type": "code",
   "execution_count": 23,
   "id": "f92a024d",
   "metadata": {},
   "outputs": [
    {
     "data": {
      "text/plain": [
       "array([1, 1, 1, 1, 1, 1, 1, 1, 1, 1, 1, 1, 1, 1, 1, 1, 1, 1, 1, 1, 1, 1,\n",
       "       1, 1, 1, 1, 1, 1, 1, 1, 1, 1, 1, 1, 1, 1, 1, 1, 1, 1, 1, 1, 1, 1,\n",
       "       1, 1, 1, 1, 1, 1, 0, 0, 0, 0, 0, 0, 0, 0, 0, 0, 0, 0, 0, 0, 0, 0,\n",
       "       0, 0, 0, 0, 0, 0, 0, 0, 0, 0, 0, 0, 0, 0, 0, 0, 0, 0, 0, 0, 0, 0,\n",
       "       0, 0, 0, 0, 0, 0, 0, 0, 0, 0, 0, 0], dtype=uint8)"
      ]
     },
     "execution_count": 23,
     "metadata": {},
     "output_type": "execute_result"
    }
   ],
   "source": [
    "df = pd.get_dummies(iris_frame)\n",
    "y = np.array(df['name_versicolor'])[50:]\n",
    "y # необходимо было оставить только два класса."
   ]
  },
  {
   "cell_type": "markdown",
   "id": "e97c97cb",
   "metadata": {},
   "source": [
    "### 2. Самостоятельно реализуйте логистическую регрессию, без использования метода LogisticRegression из библиотеки. Можете использовать библиотеки pandas, numpy, math для реализации. Оформите в виде функции. *Оформите в виде класса с методами."
   ]
  },
  {
   "cell_type": "markdown",
   "id": "536d95b4",
   "metadata": {},
   "source": [
    "Функция максимизация \n",
    "$$\n",
    "loss = \\prod\\limits_{i=0}^{N} p_i^{y_i}(1-p_i)^{1-y_i} \\to max\n",
    "$$\n",
    "$$\n",
    "logloss = \\sum\\limits_{i=0}^N ((log(p_i)^{y_i} + log(1 - p_i)^{1-y_i})\n",
    "$$\n",
    "$$\n",
    "logloss = \\sum\\limits_{i=0}^N (y_i(log(p_i) + (1 - y_i)log(1 - p_i))\n",
    "$$"
   ]
  },
  {
   "cell_type": "markdown",
   "id": "6857b9af",
   "metadata": {},
   "source": [
    "#### Линейная регрессия\n",
    "Сначала построим линейную регрессию, для этого методом градиентного спуска найдём её коэффициенты. И напишем две функции, которые в качестве аргументов принимают матрицы. \n",
    "$$\n",
    "MSE = \\frac{1}{n} \\sum\\limits_{i=1}^{i=n} (y_i - X_i w)^2\n",
    "$$\n",
    "$$\n",
    "\\frac{\\partial MSE}{\\partial w} = \\frac{2}{n}\\sum\\limits_{i=1}^{i=n} (-X_i)*(y_i - X_i w)\n",
    "$$"
   ]
  },
  {
   "cell_type": "markdown",
   "id": "61b1a6f3",
   "metadata": {},
   "source": [
    "$$\n",
    "\\begin{array}\n",
    "\\textbf{X}\\ = \\left(\n",
    "\\begin{array}{ccc}\n",
    "x_{0,0} & x_{0,0} & x_{0,k} \\\\\n",
    "x_{1,0} & x_{1,1} & x_{1,k} \\\\\n",
    "\\dots & \\dots & \\dots \\\\\n",
    "y_{n-1,0} & x_{n-1,1} & x_{{n-1},k} \\\\\n",
    "\\end{array}\n",
    "\\right)\n",
    "\\end{array}\n",
    "\\begin{array}\n",
    "\\textbf{Y-Y_{pred}}\\ = \\left(\n",
    "\\begin{array}{ccc}\n",
    "y_0 & - & y_{pred_0} \\\\\n",
    "y_1 & - & y_{pred_1} \\\\\n",
    "\\dots & \\dots & \\dots \\\\\n",
    "y_{n-1} & - & y_{pred_{n-1}} \\\\\n",
    "\\end{array}\n",
    "\\right)\n",
    "\\end{array}\n",
    "$$\n",
    "$$\n",
    "(Y-Y_{pred})^T @ (-X)\n",
    "$$"
   ]
  },
  {
   "cell_type": "code",
   "execution_count": 24,
   "id": "cf7a30f0",
   "metadata": {},
   "outputs": [],
   "source": [
    "# функция для вычисления среднеквадратичной ошибки\n",
    "def mse_error(X, w, y):\n",
    "    y_pred = X @ w\n",
    "    return np.sum((y-y_pred)**2)/len(w)\n",
    "# функция для вычисления градиента\n",
    "def grad_mse_error(X, w, y):\n",
    "    y_pred = X @ w\n",
    "    return 2/len(X)*(y - y_pred)@ (-X)"
   ]
  },
  {
   "cell_type": "code",
   "execution_count": 25,
   "id": "8373a280",
   "metadata": {},
   "outputs": [
    {
     "data": {
      "text/plain": [
       "array([0., 0., 0., 0.])"
      ]
     },
     "execution_count": 25,
     "metadata": {},
     "output_type": "execute_result"
    }
   ],
   "source": [
    "# первоначальные значения для весов \n",
    "weights =np.zeros(iris.data.shape[1])\n",
    "weights"
   ]
  },
  {
   "cell_type": "markdown",
   "id": "3e7ad2b9",
   "metadata": {},
   "source": [
    "Запускае цикл градиентного спуска и вычисляме итерациионным методом веса. Если изменяются незначительно, прекратить вычисления.\n",
    "$$\n",
    "||w_{k+1}-w_{k}|| \\leq \\epsilon\n",
    "$$"
   ]
  },
  {
   "cell_type": "code",
   "execution_count": 26,
   "id": "e1c78a5d",
   "metadata": {},
   "outputs": [
    {
     "name": "stdout",
     "output_type": "stream",
     "text": [
      "Итерация: 0; MSE : 12.5\n",
      "Итерация: 1000; MSE : 1.7871758700424165\n",
      "Итерация: 1373; MSE : 1.7746362047511792\n"
     ]
    }
   ],
   "source": [
    "# Установим минимальный значение, в пределах которого должны меняться веса\n",
    "eps = 0.0001\n",
    "\n",
    "# размер шага\n",
    "learning_rate = 0.01\n",
    "\n",
    "costs = []\n",
    "new_weight = weights\n",
    "# колиечство итераций\n",
    "N = 20000\n",
    "for i in range(0, N):\n",
    "    curent_weight = new_weight\n",
    "    \n",
    "    # вычисляем градиент функции mse и берем его противоположное направление\n",
    "    new_weight = curent_weight - learning_rate * grad_mse_error(X, curent_weight, y)\n",
    "    costs.append(mse_error(X, curent_weight, y))\n",
    "    # если заданная нами точность достигнута, выйти из цикла\n",
    "    if i%1000 == 0:\n",
    "        print(f'Итерация: {i}; MSE : {mse_error(X, curent_weight, y)}')\n",
    "    \n",
    "    if np.linalg.norm(curent_weight - new_weight, ord=2) <= eps:\n",
    "        print(f'Итерация: {i}; MSE : {mse_error(X, curent_weight, y)}')\n",
    "        break"
   ]
  },
  {
   "cell_type": "code",
   "execution_count": 27,
   "id": "d12ce197",
   "metadata": {},
   "outputs": [
    {
     "data": {
      "image/png": "[encoded data removed]",
      "text/plain": [
       "<Figure size 1000x600 with 1 Axes>"
      ]
     },
     "metadata": {},
     "output_type": "display_data"
    }
   ],
   "source": [
    "plt.figure(figsize=(10,6))\n",
    "plt.plot(costs)\n",
    "plt.show()"
   ]
  },
  {
   "cell_type": "code",
   "execution_count": 28,
   "id": "93d5f7ac",
   "metadata": {},
   "outputs": [
    {
     "data": {
      "text/plain": [
       "array([ 0.45372898,  0.44799014, -0.52885789, -0.62343075])"
      ]
     },
     "execution_count": 28,
     "metadata": {},
     "output_type": "execute_result"
    }
   ],
   "source": [
    "new_weight"
   ]
  },
  {
   "cell_type": "markdown",
   "id": "71843c54",
   "metadata": {},
   "source": [
    "Вычислили новые веса, построили линейную регрессию, теперь переходим к построению логистической регрессии."
   ]
  },
  {
   "cell_type": "markdown",
   "id": "d4f687ba",
   "metadata": {},
   "source": [
    "#### Логистическая регрессия"
   ]
  },
  {
   "cell_type": "markdown",
   "id": "69f09008",
   "metadata": {},
   "source": [
    "Сигмоида\n",
    "$$\n",
    "\\sigma(x) = \\frac{1}{1 + \\exp(x)}\n",
    "$$\n",
    "Производная сигмоиды\n",
    "$$\n",
    "\\sigma'(x) = \\frac{\\exp{x}}{(1 + \\exp(x))^2}  = \\\n",
    "$$\n",
    "Логлосс-функция\n",
    "$$\n",
    "logloss = \\sum\\limits_{i=0, j=0,1}^N (y_j(log(p_i) + (1 - y_j)log(1 - p_i)^{1-y_j})\n",
    "$$\n",
    "\n",
    "Градиент logloss-функции\n",
    "$$\n",
    "\\frac{ \\partial logloss}{ \\partial w_j }=\\frac{\\partial \\left( \\sum\\limits_{i=0}^N (y_i(log(p_i) + (1 - y_i)log(1 - p_i)) \\right)}{\\partial w_j} = \\frac{\\partial \\left( \\sum\\limits_{i=0}^N (y_i(log(\\sigma( w_j \\cdot X )) + (1 - y_i)log(1 - \\sigma( w_j \\cdot X ))) \\right)}{\\partial w_j} = - \\left( \\frac{y_i}{\\sigma(w \\cdot X)} - \\frac{1 - y_i}{1 - \\sigma(w\\cdot X)}  \\right)(\\sigma(w \\cdot X)'_{w_j} = -(y_i - \\sigma(w \\cdot x_i))x_{ij}\n",
    "$$"
   ]
  },
  {
   "cell_type": "code",
   "execution_count": 29,
   "id": "17179806",
   "metadata": {},
   "outputs": [],
   "source": [
    "# Строим вспомогательные функции\n",
    "def sigmoid(x): # сигмоида\n",
    "    return 1/(1 + np.exp(x))\n",
    "\n",
    "def logloss(y,y_proba): # \n",
    "    logloss_1 = np.sum(np.log(y_proba[y==1]+1e-30))\n",
    "    logloss_0 = np.sum(np.log(y_proba[y==1]+1e-30))\n",
    "    logloss_total = -(logloss_0 + logloss_1)/len(y)\n",
    "    return logloss_total\n",
    "\n",
    "def gr_logloss(X, W, y):\n",
    "    y_proba = sigmoid(X @ W)\n",
    "    grad = X.T @ (y_proba - y)\n",
    "    return grad"
   ]
  },
  {
   "cell_type": "code",
   "execution_count": 30,
   "id": "a71c3dbc",
   "metadata": {},
   "outputs": [
    {
     "data": {
      "text/plain": [
       "(69.07755278982137, 69.07755278982137)"
      ]
     },
     "execution_count": 30,
     "metadata": {},
     "output_type": "execute_result"
    }
   ],
   "source": [
    "test_y     = [1, 0]\n",
    "test_proba = [0, 1]\n",
    "logloss(test_y, test_proba), logloss(test_y, test_proba)"
   ]
  },
  {
   "cell_type": "markdown",
   "id": "dcacc1e7",
   "metadata": {},
   "source": [
    "### Метод градиентного спуска"
   ]
  },
  {
   "cell_type": "code",
   "execution_count": 31,
   "id": "e7ca6a2d",
   "metadata": {},
   "outputs": [
    {
     "name": "stdout",
     "output_type": "stream",
     "text": [
      "Итерация: 0\n",
      "Текущая точка [ 0.64742729  0.63252963 -0.30871221  0.50540288]| Следующая точка [ 0.67673533  0.6462095  -0.28769887  0.511938  ]\n",
      "Logloss 5.266063104040111\n",
      "Accuracy 0.5\n",
      "--------------------------------------------------------\n",
      "Итерация: 100\n",
      "Текущая точка [3.61406419 2.01690517 1.82024436 1.16805914]| Следующая точка [3.64374419 2.03075517 1.84154436 1.17468914]\n",
      "Logloss 36.65707411661998\n",
      "Accuracy 0.5\n",
      "--------------------------------------------------------\n",
      "Итерация: 200\n",
      "Текущая точка [6.58206419 3.40190517 3.95024436 1.83105914]| Следующая точка [6.61174419 3.41575517 3.97154436 1.83768914]\n",
      "Logloss 66.05133128669752\n",
      "Accuracy 0.5\n",
      "--------------------------------------------------------\n",
      "Итерация: 300\n",
      "Текущая точка [9.55006419 4.78690517 6.08024436 2.49405914]| Следующая точка [9.57974419 4.80075517 6.10154436 2.50068914]\n",
      "Logloss 69.07755244852896\n",
      "Accuracy 0.5\n",
      "--------------------------------------------------------\n",
      "Итерация: 400\n",
      "Текущая точка [12.51806419  6.17190517  8.21024436  3.15705914]| Следующая точка [12.54774419  6.18575517  8.23154436  3.16368914]\n",
      "Logloss 69.07755278982137\n",
      "Accuracy 0.5\n",
      "--------------------------------------------------------\n",
      "Итерация: 500\n",
      "Текущая точка [15.48606419  7.55690517 10.34024436  3.82005914]| Следующая точка [15.51574419  7.57075517 10.36154436  3.82668914]\n",
      "Logloss 69.07755278982137\n",
      "Accuracy 0.5\n",
      "--------------------------------------------------------\n",
      "Итерация: 600\n",
      "Текущая точка [18.45406419  8.94190517 12.47024436  4.48305914]| Следующая точка [18.48374419  8.95575517 12.49154436  4.48968914]\n",
      "Logloss 69.07755278982137\n",
      "Accuracy 0.5\n",
      "--------------------------------------------------------\n",
      "Итерация: 700\n",
      "Текущая точка [21.42206419 10.32690517 14.60024436  5.14605914]| Следующая точка [21.45174419 10.34075517 14.62154436  5.15268914]\n",
      "Logloss 69.07755278982137\n",
      "Accuracy 0.5\n",
      "--------------------------------------------------------\n",
      "Итерация: 800\n",
      "Текущая точка [24.39006419 11.71190517 16.73024436  5.80905914]| Следующая точка [24.41974419 11.72575517 16.75154436  5.81568914]\n",
      "Logloss 69.07755278982137\n",
      "Accuracy 0.5\n",
      "--------------------------------------------------------\n",
      "Итерация: 900\n",
      "Текущая точка [27.35806419 13.09690517 18.86024436  6.47205914]| Следующая точка [27.38774419 13.11075517 18.88154436  6.47868914]\n",
      "Logloss 69.07755278982137\n",
      "Accuracy 0.5\n",
      "--------------------------------------------------------\n",
      "Итерация: 1000\n",
      "Текущая точка [30.32606419 14.48190517 20.99024436  7.13505914]| Следующая точка [30.35574419 14.49575517 21.01154436  7.14168914]\n",
      "Logloss 69.07755278982137\n",
      "Accuracy 0.5\n",
      "--------------------------------------------------------\n",
      "Итерация: 1100\n",
      "Текущая точка [33.29406419 15.86690517 23.12024436  7.79805914]| Следующая точка [33.32374419 15.88075517 23.14154436  7.80468914]\n",
      "Logloss 69.07755278982137\n",
      "Accuracy 0.5\n",
      "--------------------------------------------------------\n",
      "Итерация: 1200\n",
      "Текущая точка [36.26206419 17.25190517 25.25024436  8.46105914]| Следующая точка [36.29174419 17.26575517 25.27154436  8.46768914]\n",
      "Logloss 69.07755278982137\n",
      "Accuracy 0.5\n",
      "--------------------------------------------------------\n",
      "Итерация: 1300\n",
      "Текущая точка [39.23006419 18.63690517 27.38024436  9.12405914]| Следующая точка [39.25974419 18.65075517 27.40154436  9.13068914]\n",
      "Logloss 69.07755278982137\n",
      "Accuracy 0.5\n",
      "--------------------------------------------------------\n",
      "Итерация: 1400\n",
      "Текущая точка [42.19806419 20.02190517 29.51024436  9.78705914]| Следующая точка [42.22774419 20.03575517 29.53154436  9.79368914]\n",
      "Logloss 69.07755278982137\n",
      "Accuracy 0.5\n",
      "--------------------------------------------------------\n",
      "Итерация: 1500\n",
      "Текущая точка [45.16606419 21.40690517 31.64024436 10.45005914]| Следующая точка [45.19574419 21.42075517 31.66154436 10.45668914]\n",
      "Logloss 69.07755278982137\n",
      "Accuracy 0.5\n",
      "--------------------------------------------------------\n",
      "Итерация: 1600\n",
      "Текущая точка [48.13406419 22.79190517 33.77024436 11.11305914]| Следующая точка [48.16374419 22.80575517 33.79154436 11.11968914]\n",
      "Logloss 69.07755278982137\n",
      "Accuracy 0.5\n",
      "--------------------------------------------------------\n",
      "Итерация: 1700\n",
      "Текущая точка [51.10206419 24.17690517 35.90024436 11.77605914]| Следующая точка [51.13174419 24.19075517 35.92154436 11.78268914]\n",
      "Logloss 69.07755278982137\n",
      "Accuracy 0.5\n",
      "--------------------------------------------------------\n",
      "Итерация: 1800\n",
      "Текущая точка [54.07006419 25.56190517 38.03024436 12.43905914]| Следующая точка [54.09974419 25.57575517 38.05154436 12.44568914]\n",
      "Logloss 69.07755278982137\n",
      "Accuracy 0.5\n",
      "--------------------------------------------------------\n",
      "Итерация: 1900\n",
      "Текущая точка [57.03806419 26.94690517 40.16024436 13.10205914]| Следующая точка [57.06774419 26.96075517 40.18154436 13.10868914]\n",
      "Logloss 69.07755278982137\n",
      "Accuracy 0.5\n",
      "--------------------------------------------------------\n",
      "Итерация: 2000\n",
      "Текущая точка [60.00606419 28.33190517 42.29024436 13.76505914]| Следующая точка [60.03574419 28.34575517 42.31154436 13.77168914]\n",
      "Logloss 69.07755278982137\n",
      "Accuracy 0.5\n",
      "--------------------------------------------------------\n",
      "Итерация: 2100\n",
      "Текущая точка [62.97406419 29.71690517 44.42024436 14.42805914]| Следующая точка [63.00374419 29.73075517 44.44154436 14.43468914]\n",
      "Logloss 69.07755278982137\n",
      "Accuracy 0.5\n",
      "--------------------------------------------------------\n",
      "Итерация: 2200\n",
      "Текущая точка [65.94206419 31.10190517 46.55024436 15.09105914]| Следующая точка [65.97174419 31.11575517 46.57154436 15.09768914]\n",
      "Logloss 69.07755278982137\n",
      "Accuracy 0.5\n",
      "--------------------------------------------------------\n",
      "Итерация: 2300\n",
      "Текущая точка [68.91006419 32.48690517 48.68024436 15.75405914]| Следующая точка [68.93974419 32.50075517 48.70154436 15.76068914]\n",
      "Logloss 69.07755278982137\n",
      "Accuracy 0.5\n",
      "--------------------------------------------------------\n",
      "Итерация: 2400\n",
      "Текущая точка [71.87806419 33.87190517 50.81024436 16.41705914]| Следующая точка [71.90774419 33.88575517 50.83154436 16.42368914]\n",
      "Logloss 69.07755278982137\n",
      "Accuracy 0.5\n",
      "--------------------------------------------------------\n",
      "Итерация: 2500\n",
      "Текущая точка [74.84606419 35.25690517 52.94024436 17.08005914]| Следующая точка [74.87574419 35.27075517 52.96154436 17.08668914]\n",
      "Logloss 69.07755278982137\n",
      "Accuracy 0.5\n",
      "--------------------------------------------------------\n",
      "Итерация: 2600\n",
      "Текущая точка [77.81406419 36.64190517 55.07024436 17.74305914]| Следующая точка [77.84374419 36.65575517 55.09154436 17.74968914]\n",
      "Logloss 69.07755278982137\n",
      "Accuracy 0.5\n",
      "--------------------------------------------------------\n",
      "Итерация: 2700\n",
      "Текущая точка [80.78206419 38.02690517 57.20024436 18.40605914]| Следующая точка [80.81174419 38.04075517 57.22154436 18.41268914]\n",
      "Logloss 69.07755278982137\n",
      "Accuracy 0.5\n",
      "--------------------------------------------------------\n",
      "Итерация: 2800\n",
      "Текущая точка [83.75006419 39.41190517 59.33024436 19.06905914]| Следующая точка [83.77974419 39.42575517 59.35154436 19.07568914]\n",
      "Logloss 69.07755278982137\n",
      "Accuracy 0.5\n",
      "--------------------------------------------------------\n",
      "Итерация: 2900\n",
      "Текущая точка [86.71806419 40.79690517 61.46024436 19.73205914]| Следующая точка [86.74774419 40.81075517 61.48154436 19.73868914]\n",
      "Logloss 69.07755278982137\n",
      "Accuracy 0.5\n",
      "--------------------------------------------------------\n",
      "Итерация: 3000\n",
      "Текущая точка [89.68606419 42.18190517 63.59024436 20.39505914]| Следующая точка [89.71574419 42.19575517 63.61154436 20.40168914]\n",
      "Logloss 69.07755278982137\n",
      "Accuracy 0.5\n",
      "--------------------------------------------------------\n",
      "Итерация: 3100\n",
      "Текущая точка [92.65406419 43.56690517 65.72024436 21.05805914]| Следующая точка [92.68374419 43.58075517 65.74154436 21.06468914]\n",
      "Logloss 69.07755278982137\n",
      "Accuracy 0.5\n",
      "--------------------------------------------------------\n",
      "Итерация: 3200\n",
      "Текущая точка [95.62206419 44.95190517 67.85024436 21.72105914]| Следующая точка [95.65174419 44.96575517 67.87154436 21.72768914]\n",
      "Logloss 69.07755278982137\n",
      "Accuracy 0.5\n",
      "--------------------------------------------------------\n",
      "Итерация: 3300\n",
      "Текущая точка [98.59006419 46.33690517 69.98024436 22.38405914]| Следующая точка [98.61974419 46.35075517 70.00154436 22.39068914]\n",
      "Logloss 69.07755278982137\n",
      "Accuracy 0.5\n",
      "--------------------------------------------------------\n",
      "Итерация: 3400\n",
      "Текущая точка [101.55806419  47.72190517  72.11024436  23.04705914]| Следующая точка [101.58774419  47.73575517  72.13154436  23.05368914]\n",
      "Logloss 69.07755278982137\n",
      "Accuracy 0.5\n",
      "--------------------------------------------------------\n"
     ]
    },
    {
     "name": "stdout",
     "output_type": "stream",
     "text": [
      "Итерация: 3500\n",
      "Текущая точка [104.52606419  49.10690517  74.24024436  23.71005914]| Следующая точка [104.55574419  49.12075517  74.26154436  23.71668914]\n",
      "Logloss 69.07755278982137\n",
      "Accuracy 0.5\n",
      "--------------------------------------------------------\n",
      "Итерация: 3600\n",
      "Текущая точка [107.49406419  50.49190517  76.37024436  24.37305914]| Следующая точка [107.52374419  50.50575517  76.39154436  24.37968914]\n",
      "Logloss 69.07755278982137\n",
      "Accuracy 0.5\n",
      "--------------------------------------------------------\n",
      "Итерация: 3700\n",
      "Текущая точка [110.46206419  51.87690517  78.50024436  25.03605914]| Следующая точка [110.49174419  51.89075517  78.52154436  25.04268914]\n",
      "Logloss 69.07755278982137\n",
      "Accuracy 0.5\n",
      "--------------------------------------------------------\n",
      "Итерация: 3800\n",
      "Текущая точка [113.43006419  53.26190517  80.63024436  25.69905914]| Следующая точка [113.45974419  53.27575517  80.65154436  25.70568914]\n",
      "Logloss 69.07755278982137\n",
      "Accuracy 0.5\n",
      "--------------------------------------------------------\n",
      "Итерация: 3900\n",
      "Текущая точка [116.39806419  54.64690517  82.76024436  26.36205914]| Следующая точка [116.42774419  54.66075517  82.78154436  26.36868914]\n",
      "Logloss 69.07755278982137\n",
      "Accuracy 0.5\n",
      "--------------------------------------------------------\n",
      "Итерация: 4000\n",
      "Текущая точка [119.36606419  56.03190517  84.89024436  27.02505914]| Следующая точка [119.39574419  56.04575517  84.91154436  27.03168914]\n",
      "Logloss 69.07755278982137\n",
      "Accuracy 0.5\n",
      "--------------------------------------------------------\n",
      "Итерация: 4100\n",
      "Текущая точка [122.33406419  57.41690517  87.02024436  27.68805914]| Следующая точка [122.36374419  57.43075517  87.04154436  27.69468914]\n",
      "Logloss 69.07755278982137\n",
      "Accuracy 0.5\n",
      "--------------------------------------------------------\n",
      "Итерация: 4200\n",
      "Текущая точка [125.30206419  58.80190517  89.15024436  28.35105914]| Следующая точка [125.33174419  58.81575517  89.17154436  28.35768914]\n",
      "Logloss 69.07755278982137\n",
      "Accuracy 0.5\n",
      "--------------------------------------------------------\n",
      "Итерация: 4300\n",
      "Текущая точка [128.27006419  60.18690517  91.28024436  29.01405914]| Следующая точка [128.29974419  60.20075517  91.30154436  29.02068914]\n",
      "Logloss 69.07755278982137\n",
      "Accuracy 0.5\n",
      "--------------------------------------------------------\n",
      "Итерация: 4400\n",
      "Текущая точка [131.23806419  61.57190517  93.41024436  29.67705914]| Следующая точка [131.26774419  61.58575517  93.43154436  29.68368914]\n",
      "Logloss 69.07755278982137\n",
      "Accuracy 0.5\n",
      "--------------------------------------------------------\n",
      "Итерация: 4500\n",
      "Текущая точка [134.20606419  62.95690517  95.54024436  30.34005914]| Следующая точка [134.23574419  62.97075517  95.56154436  30.34668914]\n",
      "Logloss 69.07755278982137\n",
      "Accuracy 0.5\n",
      "--------------------------------------------------------\n",
      "Итерация: 4600\n",
      "Текущая точка [137.17406419  64.34190517  97.67024436  31.00305914]| Следующая точка [137.20374419  64.35575517  97.69154436  31.00968914]\n",
      "Logloss 69.07755278982137\n",
      "Accuracy 0.5\n",
      "--------------------------------------------------------\n",
      "Итерация: 4700\n",
      "Текущая точка [140.14206419  65.72690517  99.80024436  31.66605914]| Следующая точка [140.17174419  65.74075517  99.82154436  31.67268914]\n",
      "Logloss 69.07755278982137\n",
      "Accuracy 0.5\n",
      "--------------------------------------------------------\n",
      "Итерация: 4800\n",
      "Текущая точка [143.11006419  67.11190517 101.93024436  32.32905914]| Следующая точка [143.13974419  67.12575517 101.95154436  32.33568914]\n",
      "Logloss 69.07755278982137\n",
      "Accuracy 0.5\n",
      "--------------------------------------------------------\n",
      "Итерация: 4900\n",
      "Текущая точка [146.07806419  68.49690517 104.06024436  32.99205914]| Следующая точка [146.10774419  68.51075517 104.08154436  32.99868914]\n",
      "Logloss 69.07755278982137\n",
      "Accuracy 0.5\n",
      "--------------------------------------------------------\n"
     ]
    },
    {
     "name": "stderr",
     "output_type": "stream",
     "text": [
      "/var/folders/kx/kq97lz2s39jdxr03l8m6m_7h0000gn/T/ipykernel_26115/2995500525.py:3: RuntimeWarning: overflow encountered in exp\n",
      "  return 1/(1 + np.exp(x))\n"
     ]
    }
   ],
   "source": [
    "# установим минимальное значение, на которое должны изменяться веса\n",
    "eps = 0.01\n",
    "\n",
    "W = np.random.randn(X.shape[1])\n",
    "\n",
    "# размер шага\n",
    "learning_rate = 0.0001\n",
    "logcosts = []\n",
    "new_W = W\n",
    "\n",
    "n = 5000\n",
    "for i in range(0, n):\n",
    "    curent_W = new_W\n",
    "    \n",
    "    new_W = curent_W - learning_rate*gr_logloss(X,curent_W,y)\n",
    "\n",
    "    if np.linalg.norm(curent_W - new_W) <=eps:\n",
    "        print('Веса не меняются.')\n",
    "        break\n",
    "    if i%100 == 0 :\n",
    "        print(f\"Итерация: {i}\")\n",
    "        print(f\"Текущая точка {curent_W}| Следующая точка {new_W}\")\n",
    "        y_proba = sigmoid(X @ new_W)\n",
    "        y_class = np.where(y_proba >= 0.5, 1, 0)\n",
    "        accuracy = (y_class == y).sum() / len(y)\n",
    "        print(f\"Logloss {logloss(y, y_proba)}\")\n",
    "        print(f\"Accuracy {accuracy}\")\n",
    "        print(\"--------------------------------------------------------\")  \n",
    "    logcosts.append(logloss(y, y_proba))"
   ]
  },
  {
   "cell_type": "code",
   "execution_count": 32,
   "id": "8a209ec7",
   "metadata": {},
   "outputs": [
    {
     "data": {
      "image/png": "[encoded data removed]",
      "text/plain": [
       "<Figure size 1000x600 with 1 Axes>"
      ]
     },
     "metadata": {},
     "output_type": "display_data"
    }
   ],
   "source": [
    "plt.figure(figsize=(10,6))\n",
    "plt.plot(logcosts)\n",
    "plt.show()"
   ]
  },
  {
   "cell_type": "code",
   "execution_count": null,
   "id": "8a48077e",
   "metadata": {},
   "outputs": [],
   "source": [
    "# я не понимаю результатов градиентного спуска и почему такой график и почему массив y_proba заполнен нулями в итоге"
   ]
  },
  {
   "cell_type": "code",
   "execution_count": 33,
   "id": "e6e51c81",
   "metadata": {},
   "outputs": [
    {
     "data": {
      "text/plain": [
       "array([0., 0., 0., 0., 0., 0., 0., 0., 0., 0., 0., 0., 0., 0., 0., 0., 0.,\n",
       "       0., 0., 0., 0., 0., 0., 0., 0., 0., 0., 0., 0., 0., 0., 0., 0., 0.,\n",
       "       0., 0., 0., 0., 0., 0., 0., 0., 0., 0., 0., 0., 0., 0., 0., 0., 0.,\n",
       "       0., 0., 0., 0., 0., 0., 0., 0., 0., 0., 0., 0., 0., 0., 0., 0., 0.,\n",
       "       0., 0., 0., 0., 0., 0., 0., 0., 0., 0., 0., 0., 0., 0., 0., 0., 0.,\n",
       "       0., 0., 0., 0., 0., 0., 0., 0., 0., 0., 0., 0., 0., 0., 0.])"
      ]
     },
     "execution_count": 33,
     "metadata": {},
     "output_type": "execute_result"
    }
   ],
   "source": [
    "y_proba"
   ]
  },
  {
   "cell_type": "markdown",
   "id": "b0bbfae1",
   "metadata": {},
   "source": [
    "#### 4. Метод скользящего среднего"
   ]
  },
  {
   "cell_type": "code",
   "execution_count": null,
   "id": "a700a069",
   "metadata": {},
   "outputs": [],
   "source": []
  }
 ],
 "metadata": {
  "kernelspec": {
   "display_name": "Python 3 (ipykernel)",
   "language": "python",
   "name": "python3"
  },
  "language_info": {
   "codemirror_mode": {
    "name": "ipython",
    "version": 3
   },
   "file_extension": ".py",
   "mimetype": "text/x-python",
   "name": "python",
   "nbconvert_exporter": "python",
   "pygments_lexer": "ipython3",
   "version": "3.8.8"
  }
 },
 "nbformat": 4,
 "nbformat_minor": 5
}
